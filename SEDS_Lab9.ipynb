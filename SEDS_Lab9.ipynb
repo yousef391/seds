{
 "cells": [
  {
   "cell_type": "markdown",
   "metadata": {},
   "source": [
    "<figure>\n",
    "  <IMG src=\"figures/logo-esi-sba.png\" WIDTH=300 height=\"100\" ALIGN=\"right\">\n",
    "</figure>\n",
    "\n",
    "# Practical Trainining Series on Software Engineering For Data Science  \n",
    "*By Dr. Belkacem KHALDI (b.khaldi@esi-sba.dz)*"
   ]
  },
  {
   "cell_type": "markdown",
   "metadata": {
    "slideshow": {
     "slide_type": "slide"
    }
   },
   "source": [
    "# Notebook 9: Web Development for Data Science: Building Restful API with FastAPI (Part I)\n",
    "\n",
    "The purpose of this [Jupyter Notebook] is to getting you familairized with Building Restful API with FastAPI For Data Science"
   ]
  },
  {
   "cell_type": "markdown",
   "metadata": {},
   "source": [
    "#  FastAPI Hands-On\n",
    "\n",
    "Re-test the codes seen in lecture 9 from slide 5 to 28.\n"
   ]
  },
  {
   "cell_type": "code",
   "execution_count": 27,
   "metadata": {},
   "outputs": [
    {
     "name": "stderr",
     "output_type": "stream",
     "text": [
      "C:\\Users\\asus\\AppData\\Local\\Temp\\ipykernel_18008\\1889855951.py:34: DeprecationWarning: `regex` has been deprecated, please use `pattern` instead\n",
      "  async def get_license_plate(license: str = Path(..., regex=r\"^\\d{5}-\\d{3}-\\d{2}$\")):\n",
      "INFO:     Started server process [18008]\n",
      "INFO:     Waiting for application startup.\n",
      "INFO:     Application startup complete.\n",
      "INFO:     Uvicorn running on http://127.0.0.1:8000 (Press CTRL+C to quit)\n"
     ]
    },
    {
     "name": "stdout",
     "output_type": "stream",
     "text": [
      "INFO:     127.0.0.1:54662 - \"GET /docs HTTP/1.1\" 200 OK\n",
      "INFO:     127.0.0.1:54662 - \"GET /openapi.json HTTP/1.1\" 200 OK\n",
      "INFO:     127.0.0.1:54663 - \"GET /docs/ HTTP/1.1\" 307 Temporary Redirect\n",
      "INFO:     127.0.0.1:54663 - \"GET /docs HTTP/1.1\" 200 OK\n",
      "INFO:     127.0.0.1:54663 - \"GET /openapi.json HTTP/1.1\" 200 OK\n",
      "INFO:     127.0.0.1:55723 - \"GET /license-plates/11111-555-22 HTTP/1.1\" 200 OK\n",
      "INFO:     127.0.0.1:56939 - \"GET /license-plates/11111-555-22 HTTP/1.1\" 200 OK\n",
      "INFO:     127.0.0.1:57242 - \"GET /users/10 HTTP/1.1\" 200 OK\n",
      "INFO:     127.0.0.1:57719 - \"POST /uploadMultipleFiles HTTP/1.1\" 200 OK\n",
      "INFO:     127.0.0.1:57909 - \"GET /houseprices HTTP/1.1\" 200 OK\n"
     ]
    },
    {
     "name": "stderr",
     "output_type": "stream",
     "text": [
      "INFO:     Shutting down\n",
      "INFO:     Waiting for application shutdown.\n",
      "INFO:     Application shutdown complete.\n",
      "INFO:     Finished server process [18008]\n"
     ]
    }
   ],
   "source": [
    "from fastapi import FastAPI, Path, Query, Body, Form, File, UploadFile, Header, Request, Response, status, HTTPException\n",
    "import nest_asyncio\n",
    "import uvicorn\n",
    "from enum import Enum\n",
    "from typing import List\n",
    "import json\n",
    "import pandas as pd\n",
    "\n",
    "# Allow re-entrant event loops in Jupyter\n",
    "nest_asyncio.apply()\n",
    "\n",
    "# Create FastAPI instance\n",
    "app = FastAPI()\n",
    "\n",
    "# Define a GET endpoint\n",
    "@app.get(\"/\")\n",
    "async def hello_world():\n",
    "    return {\"hello\": \"world\"}\n",
    "\n",
    "class UserType(str, Enum):\n",
    "    STANDARD = \"standard\"\n",
    "    ADMIN = \"admin\"\n",
    "    \n",
    "@app.get(\"/users/{type}/{id}/\")\n",
    "async def get_user(type: UserType, id: int):\n",
    "    return {\"type\": type, \"id\": id}\n",
    "\n",
    "\n",
    "@app.get(\"/users/{id}\")\n",
    "async def get_user(id: int = Path(..., ge=1)):\n",
    "    return {\"id\": id}\n",
    "\n",
    "@app.get(\"/license-plates/{license}\")\n",
    "async def get_license_plate(license: str = Path(..., regex=r\"^\\d{5}-\\d{3}-\\d{2}$\")):\n",
    "    return {\"license\": license}\n",
    "\n",
    "@app.get(\"/users\")\n",
    "async  def get_user(page: int = Query(1, gt = 0), size: int = Query(10, le = 100)):\n",
    "    return {\"page\": page, \"size\": size}\n",
    "\n",
    "@app.post(\"/users\")\n",
    "async def create_user(name: str = Body(...), age: int = Body(...)):\n",
    "    return {\"name\": name, \"age\": age} \n",
    "\n",
    "@app.post(\"/createUser\")\n",
    "async def create_user(name: str = Form(...), age: int =  Form(...)):\n",
    "    return {\"name\": name, \"age\": age} \n",
    "\n",
    "@app.post(\"/files\")\n",
    "async def upload_file(file: bytes = File(...)):\n",
    "    return {\"file_size\": len(file)}\n",
    "\n",
    "@app.get(\"/request\")\n",
    "async def get_request_object(request: Request):\n",
    "    return {\"path\": request.url.path}\n",
    "\n",
    "@app.post(\"/uploadFile\")\n",
    "async def upload_file(file: UploadFile = File(...)):\n",
    "    return {\"file_name\": file.filename, \"content_type\": file.content_type}\n",
    "\n",
    "@app.post(\"/uploadMultipleFiles\")\n",
    "async def upload_multiple_files(files: List[UploadFile]=File(...)):\n",
    "    return [{\"file_name\": file.filename, \"content_type\": file.content_type}for file in files]\n",
    "\n",
    "@app.get(\"/getHeader\")\n",
    "async def get_header(user_agent: str = Header(...)):\n",
    "    return {\"user_agent\": user_agent}\n",
    "\n",
    "@app.get(\"/setCookie\")\n",
    "async def custom_cookie(response: Response):\n",
    "    response.set_cookie(\"cookie-name\", \"cookie-value\", max_age=86400)\n",
    "    return {\"hello\": \"world\"}\n",
    "\n",
    "@app.post(\"/password\")\n",
    "async def check_password(password: str = Body(...), password_confirm: str = Body(...)):\n",
    "    if password != password_confirm:\n",
    "        raise HTTPException(\n",
    "        status.HTTP_400_BAD_REQUEST,\n",
    "        detail=\"Passwords don't match.\",\n",
    "        )\n",
    "    return {\"message\": \"Passwords match.\"}\n",
    "\n",
    "\n",
    "from fastapi.templating import Jinja2Templates\n",
    "\n",
    "templates = Jinja2Templates(directory=\"templates\")\n",
    "\n",
    "@app.get(\"/reply\")\n",
    "async def home(request: Request):\n",
    "    return templates.TemplateResponse(\"/index.html\",{\"request\":request})\n",
    "\n",
    "@app.get(\"/houseprices\")\n",
    "async def home(request: Request):\n",
    "    df = pd.read_csv(\"data/house_pricing.csv\", nrows=25) \n",
    "    js = df.to_json(orient=\"records\")\n",
    "    data=json.loads(js)\n",
    "    templates\n",
    "    return templates.TemplateResponse(\"/houseprices.html\",{\"request\":request, \"house_prices\":data})\n",
    "\n",
    "# Run the application\n",
    "uvicorn.run(app, host=\"127.0.0.1\", port=8000)\n"
   ]
  }
 ],
 "metadata": {
  "anaconda-cloud": {},
  "kernelspec": {
   "display_name": "Python 3",
   "language": "python",
   "name": "python3"
  },
  "language_info": {
   "codemirror_mode": {
    "name": "ipython",
    "version": 3
   },
   "file_extension": ".py",
   "mimetype": "text/x-python",
   "name": "python",
   "nbconvert_exporter": "python",
   "pygments_lexer": "ipython3",
   "version": "3.11.4"
  }
 },
 "nbformat": 4,
 "nbformat_minor": 2
}
